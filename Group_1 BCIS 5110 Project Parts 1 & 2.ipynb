{
 "cells": [
  {
   "cell_type": "markdown",
   "id": "dfe9140d",
   "metadata": {},
   "source": [
    "# BCIS 5110 PROJECT\n",
    "## Group 1:\n",
    "Joshua Norris\n",
    "\n",
    "Aziz Haryani\n",
    "\n",
    "Marie Aka\n",
    "\n",
    "Audrey Littlefield\n",
    "\n",
    "Yusuf Saadu\n",
    "\n",
    "\n",
    "### Dataset Introduction:\n",
    "The dataset selected for this project is “100,000 UK Used Car Dataset.” \n",
    "Source(s): https://www.kaggle.com/code/niteshhalai/100-000-uk-used-car-data-set/notebook \n",
    "This dataset describes a listing of about 400000 used cars, evaluated through multiple variables.\n",
    "Initial observation of the dataset: \n",
    "- There are exactly 396749 observations (rows) and 10 variables (columns): Model, Year, Price, Transmission, Mileage, Fuel Type, Tax, Miles per Gallon(mpg), Engine Size, Tax( £).\n",
    "- There seems to be 5-10% missing values.\n",
    "- The price range is relatively high. \n",
    "- Mileage is very high - used vehicles prevalent.\n",
    "- Maximum registration year is 2060.\n",
    "- Oldest year is 1970 - very few older vehicles.\n",
    "\n",
    "### Research Questions:\n",
    "1. What is the average Price per Transmission?\n",
    "1. What is the effect of Fuel Type on mpg?\n",
    "1. Does the overall Size of the engine affect the mpg?\n",
    "1. On average which Model has the highest Price?\n",
    "1. Does the Engine Size affect the overall Price & Taxes of the vehicle?\n",
    "1. Which vehicle year has the lowest average Price?\n",
    "1. Manual vs. Automatic: Which one gets better fuel economy?\n",
    "1. Which Fuel Type gives the most mpg?\n",
    "1. Which Model is the most popular?\n",
    "1. What is the average mpg for each Model? \n",
    "\n",
    "### Method of Investigation:\n",
    "We will use the libraries we are learning in class in order to analyze the data. We will use matplotlib to create various visuals to make the data easier to understand. The goal of this project is to identify trends in consumer consumption, as well as identify how different variables have an effect on the automobile’s efficiency and price. \n",
    "\n",
    "### Plan for dividing the work:\n",
    "Each group member will analyze two of the above questions. Joshua will work on questions 1 and 2, Aziz will work on questions 3 and 4, Marie will work on questions 5 and 6, Audrey will work on questions 7 and 8, and Yusuf will work on questions 9 and 10. \n"
   ]
  },
  {
   "cell_type": "code",
   "execution_count": null,
   "id": "56d300b7",
   "metadata": {},
   "outputs": [],
   "source": []
  }
 ],
 "metadata": {
  "kernelspec": {
   "display_name": "Python 3 (ipykernel)",
   "language": "python",
   "name": "python3"
  },
  "language_info": {
   "codemirror_mode": {
    "name": "ipython",
    "version": 3
   },
   "file_extension": ".py",
   "mimetype": "text/x-python",
   "name": "python",
   "nbconvert_exporter": "python",
   "pygments_lexer": "ipython3",
   "version": "3.10.2"
  }
 },
 "nbformat": 4,
 "nbformat_minor": 5
}
